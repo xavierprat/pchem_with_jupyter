{
 "cells": [
  {
   "cell_type": "markdown",
   "metadata": {},
   "source": [
    "# Module 3: Statistical Thermodynamics\n",
    "\n",
    "Outline for module 3\n",
    "\n",
    "1. M3.D1 The Boltzmann factor and partition functions\n",
    "\n",
    "    1. The Boltzmann factor: the probability of an energy level\n",
    "    2. Partition functions: The overall number of states available and it allows us to calculate the normalized probability\n",
    "    3. Boltzmann distribution: the function of probabilities give us how energy is distributed.\n",
    "    4. The Boltzmann game\n",
    "    5. Density of states\n",
    "    6. How degeneracy affects Boltzmann distributions\n",
    "\n",
    "2. M3.D2. Partition functions of atoms \n",
    "\n",
    "    1. How to calculate a macroscopic property\n",
    "    2. The partition function of an atom: translational and electronic contributions\n",
    "    3. Calculations involving atoms: Temperature dependence of partition function\n",
    "    4. The internal energy of an atomic ideal gas\n",
    "\n",
    "3. M3.D3. Thermodynamic properties of molecular ideal gases\n",
    "\n",
    "    1. Vibrational partition function of a molecule using the harmonic oscillator\n",
    "    2. Vibrational contribution to the internal energy of a molecular ideal gas\n",
    "    3. Rotational partition function using the rigid rotor\n",
    "    4. Rotational contribution to the internal energy of a molecular ideal gas\n",
    "    5. Total internal energy of a diatomic ideal gas\n",
    "    6. Heat capacity of an ideal gas. Molecular contributions to heat capacity\n",
    "    7. Calculating macroscopic thermodynamic properties with PySCF\n",
    "\n",
    "4. M3.D4. Thermodynamic potentials for spontaneity and other thermodynamic properties\n",
    "\n",
    "    1. Ensembles and variables and Thermodynamic potentials for the 2nd law\n",
    "    2. Calculating thermodynamic potentials using pyscf"
   ]
  }
 ],
 "metadata": {
  "language_info": {
   "name": "python"
  }
 },
 "nbformat": 4,
 "nbformat_minor": 2
}
