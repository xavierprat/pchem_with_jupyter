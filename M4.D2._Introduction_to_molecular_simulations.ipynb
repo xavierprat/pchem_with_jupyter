{
 "cells": [
  {
   "cell_type": "markdown",
   "id": "68551a80",
   "metadata": {},
   "source": [
    "# M4.D2: Introduction to molecular simulations\n",
    "\n",
    "## Learning Objectives\n",
    "\n",
    "* Explain the need for molecular dynamics software packages to run more accurate simulations. List all the variables that need to be taken into account when running an atomistic simulation.\n",
    "* Run a simulation of a water liquid. Briefly describe the forcefield, the type of intermolecular interactions, algorithm for the equations of motion, time step, length of the simulation.\n",
    "* Plot properties of the simulation through time. Identify the equilibration period in a molecular dynamics simulation.\n",
    "* Calculate the heat capacity of the liquid\n",
    "* Use MDAnalysis to analyze a molecular dynamics trajectory\n",
    "\n",
    "# Identifying the main charactersitics of molecular simulations\n",
    "\n",
    "In order to run an accurate molecular dynamics simulation there are list of technical decisions that need to be made. Using a molecular dynamics software package helps mainstream those decisions.\n",
    "\n",
    "In class we will briefly talk about:\n",
    "\n",
    "* The Molecular Mechanics Force Field: https://en.wikipedia.org/wiki/Force_field_(chemistry)\n",
    "* Long-range interactions: https://en.wikibooks.org/wiki/Molecular_Simulation/Treatment_of_Long_Range_Forces \n",
    "* The equations of motion: integrators https://en.wikipedia.org/wiki/Molecular_dynamics#Molecular_dynamics_algorithms \n",
    "* Thermostats and barostats\n",
    "\n"
   ]
  },
  {
   "cell_type": "markdown",
   "id": "418be681",
   "metadata": {},
   "source": [
    "# Running a molecular dynamics simulation of water\n",
    "\n",
    "Optional: Watch the video on Canvas showing step by step how to run the simulation of a cube of waters\n"
   ]
  },
  {
   "cell_type": "markdown",
   "id": "6018cf40",
   "metadata": {},
   "source": [
    "# Analyzing a molecular dynamics simulation of water\n",
    "\n",
    "The files water.out, water-processed.pdb, and water.dcd are created after you run the simulation and they will be in the folder that you have indicated. These files will be easier to read if you select the same folder as where you have this notebook, if not, you may just need to copy them to the current folder.\n",
    "\n",
    "It is important that your simulation paramaters include:\n",
    "* Write your results every 10 steps\n",
    "* At least 50 ps of simulation, that's 50000 steps of 1fs timestep.\n",
    "* Your output should include temperature, KE, PE and Total E."
   ]
  },
  {
   "cell_type": "code",
   "execution_count": 1,
   "id": "c6f64f2b",
   "metadata": {},
   "outputs": [
    {
     "data": {
      "application/vnd.microsoft.datawrangler.viewer.v0+json": {
       "columns": [
        {
         "name": "index",
         "rawType": "int64",
         "type": "integer"
        },
        {
         "name": "#\"Step\"",
         "rawType": "int64",
         "type": "integer"
        },
        {
         "name": "Time (ps)",
         "rawType": "float64",
         "type": "float"
        },
        {
         "name": "Potential Energy (kJ/mole)",
         "rawType": "float64",
         "type": "float"
        },
        {
         "name": "Kinetic Energy (kJ/mole)",
         "rawType": "float64",
         "type": "float"
        },
        {
         "name": "Total Energy (kJ/mole)",
         "rawType": "float64",
         "type": "float"
        },
        {
         "name": "Temperature (K)",
         "rawType": "float64",
         "type": "float"
        },
        {
         "name": "Box Volume (nm^3)",
         "rawType": "float64",
         "type": "float"
        },
        {
         "name": "Density (g/mL)",
         "rawType": "float64",
         "type": "float"
        }
       ],
       "conversionMethod": "pd.DataFrame",
       "ref": "9b0d8680-81e7-4358-ae4b-6212c0472252",
       "rows": [
        [
         "0",
         "10",
         "0.11",
         "-15852.86367145147",
         "1946.9931882950711",
         "-13905.8704831564",
         "176.0010943317505",
         "9.353182039346024",
         "0.9467242440539884"
        ],
        [
         "1",
         "20",
         "0.12",
         "-15597.068405773209",
         "1758.4975300340918",
         "-13838.570875739117",
         "158.961773223613",
         "9.353182039346024",
         "0.9467242440539884"
        ],
        [
         "2",
         "30",
         "0.1300000000000001",
         "-15719.28450574603",
         "1757.676208376594",
         "-13961.608297369436",
         "158.8875287365819",
         "9.338104855312132",
         "0.9482528128458486"
        ],
        [
         "3",
         "40",
         "0.1400000000000001",
         "-15856.482367001465",
         "2010.3542914735945",
         "-13846.128075527871",
         "181.72870733241643",
         "9.338104855312132",
         "0.9482528128458486"
        ],
        [
         "4",
         "50",
         "0.1500000000000001",
         "-15583.168041193929",
         "1850.7588981364847",
         "-13732.409143057444",
         "167.3018649343523",
         "9.268755540621424",
         "0.9553476900854294"
        ],
        [
         "5",
         "60",
         "0.1600000000000001",
         "-15641.21235625321",
         "1804.505324750924",
         "-13836.707031502288",
         "163.1207103306522",
         "9.259385994992538",
         "0.9563144036211378"
        ],
        [
         "6",
         "70",
         "0.1700000000000001",
         "-15800.51433483221",
         "1994.550924433212",
         "-13805.963410399",
         "180.30014049923244",
         "9.269972941278263",
         "0.9552222268383642"
        ],
        [
         "7",
         "80",
         "0.1800000000000001",
         "-15707.300429198443",
         "2003.5983442799304",
         "-13703.702084918514",
         "181.11799430759405",
         "9.313737592087405",
         "0.9507336993498696"
        ],
        [
         "8",
         "90",
         "0.1900000000000001",
         "-15713.338920367916",
         "2055.5452949484547",
         "-13657.79362541946",
         "185.81380948549085",
         "9.280801698120063",
         "0.954107682043553"
        ],
        [
         "9",
         "100",
         "0.2000000000000001",
         "-15677.510307649616",
         "2006.0722713368252",
         "-13671.438036312791",
         "181.34162830484067",
         "9.191550530129105",
         "0.9633721934807044"
        ],
        [
         "10",
         "110",
         "0.2100000000000001",
         "-15752.354323181797",
         "2074.388836742939",
         "-13677.965486438858",
         "187.51719704578295",
         "9.21304251649314",
         "0.9611248596592532"
        ],
        [
         "11",
         "120",
         "0.2200000000000001",
         "-15741.079875736315",
         "2136.84215188702",
         "-13604.237723849295",
         "193.1627493138056",
         "9.21304251649314",
         "0.9611248596592532"
        ],
        [
         "12",
         "130",
         "0.2300000000000001",
         "-15681.525285936532",
         "2094.2782598317167",
         "-13587.247026104817",
         "189.31512846654843",
         "9.21304251649314",
         "0.9611248596592532"
        ],
        [
         "13",
         "140",
         "0.2400000000000001",
         "-15675.273266812876",
         "2052.336212760046",
         "-13622.937054052829",
         "185.52372014139044",
         "9.143851675726856",
         "0.9683976194851518"
        ],
        [
         "14",
         "150",
         "0.2500000000000001",
         "-15744.902923181542",
         "2144.840408688451",
         "-13600.062514493093",
         "193.8857626033544",
         "9.118872690649829",
         "0.9710503146708794"
        ],
        [
         "15",
         "160",
         "0.2600000000000002",
         "-15677.9160905707",
         "2148.899095435351",
         "-13529.016995135353",
         "194.2526531057447",
         "9.07792748037816",
         "0.9754301535057356"
        ],
        [
         "16",
         "170",
         "0.2700000000000002",
         "-15609.166986361948",
         "2046.6779082952555",
         "-13562.489078066692",
         "185.01223002224043",
         "9.068787503428606",
         "0.9764132407283188"
        ],
        [
         "17",
         "180",
         "0.2800000000000002",
         "-15684.167622357294",
         "2113.1273998183956",
         "-13571.0402225389",
         "191.01902208302937",
         "9.068787503428606",
         "0.9764132407283188"
        ],
        [
         "18",
         "190",
         "0.2900000000000002",
         "-15705.372420617492",
         "2228.4880041663855",
         "-13476.884416451108",
         "201.44720063551708",
         "9.068787503428606",
         "0.9764132407283188"
        ],
        [
         "19",
         "200",
         "0.3000000000000002",
         "-15571.394733511788",
         "2164.462763825914",
         "-13406.931969685877",
         "195.6595520538372",
         "9.046926880064824",
         "0.978772605669137"
        ],
        [
         "20",
         "210",
         "0.3100000000000002",
         "-15576.096742003489",
         "2145.602409430008",
         "-13430.49433257348",
         "193.9546446955989",
         "9.05461970323183",
         "0.9779410384887468"
        ],
        [
         "21",
         "220",
         "0.3200000000000002",
         "-15598.745987829225",
         "2179.339567994975",
         "-13419.40641983425",
         "197.0043609774918",
         "9.05461970323183",
         "0.9779410384887468"
        ],
        [
         "22",
         "230",
         "0.3300000000000002",
         "-15609.7600877456",
         "2219.038782488065",
         "-13390.721305257532",
         "200.5930254047223",
         "8.990956507496639",
         "0.9848656467547166"
        ],
        [
         "23",
         "240",
         "0.3400000000000002",
         "-15574.60741942722",
         "2264.642921665434",
         "-13309.964497761786",
         "204.715473520888",
         "8.951677179090154",
         "0.9891871677838155"
        ],
        [
         "24",
         "250",
         "0.3500000000000002",
         "-15474.826894285943",
         "2174.1752831720833",
         "-13300.65161111386",
         "196.53752843501857",
         "8.94990665315116",
         "0.9893828549129616"
        ],
        [
         "25",
         "260",
         "0.3600000000000002",
         "-15550.21641996256",
         "2221.0989602784507",
         "-13329.11745968411",
         "200.7792579749263",
         "8.99437327984553",
         "0.9844915171067128"
        ],
        [
         "26",
         "270",
         "0.3700000000000003",
         "-15552.271059918214",
         "2306.0676461408298",
         "-13246.203413777384",
         "208.46011776715025",
         "8.99437327984553",
         "0.9844915171067128"
        ],
        [
         "27",
         "280",
         "0.3800000000000003",
         "-15534.100996964886",
         "2321.639352226673",
         "-13212.461644738212",
         "209.86774329362711",
         "8.918045162494629",
         "0.9929176220074494"
        ],
        [
         "28",
         "290",
         "0.3900000000000003",
         "-15452.56128275747",
         "2209.028100646462",
         "-13243.533182111009",
         "199.6880962196994",
         "8.985390542584463",
         "0.9854757179149032"
        ],
        [
         "29",
         "300",
         "0.4000000000000003",
         "-15540.26350757691",
         "2252.6734555456887",
         "-13287.59005203122",
         "203.63347736994783",
         "8.985390542584463",
         "0.9854757179149032"
        ],
        [
         "30",
         "310",
         "0.4100000000000003",
         "-15521.39536025239",
         "2310.6330856887557",
         "-13210.762274563634",
         "208.87281687743527",
         "8.996990468184084",
         "0.9842051324843116"
        ],
        [
         "31",
         "320",
         "0.4200000000000003",
         "-15505.531717332316",
         "2349.0298221900875",
         "-13156.501895142228",
         "212.34374203712727",
         "8.948420183318154",
         "0.9895472065791768"
        ],
        [
         "32",
         "330",
         "0.4300000000000003",
         "-15403.78081056044",
         "2259.575873813641",
         "-13144.2049367468",
         "204.25743084651796",
         "8.997868501836544",
         "0.9841090913800136"
        ],
        [
         "33",
         "340",
         "0.4400000000000003",
         "-15468.48196703532",
         "2307.219374814272",
         "-13161.26259222105",
         "208.5642298452601",
         "8.951252708638131",
         "0.9892340752656966"
        ],
        [
         "34",
         "350",
         "0.4500000000000003",
         "-15462.954839723396",
         "2396.333533917358",
         "-13066.621305806037",
         "216.61982532288533",
         "9.04228415693646",
         "0.97927515238575"
        ],
        [
         "35",
         "360",
         "0.4600000000000003",
         "-15346.069859525383",
         "2301.947881106175",
         "-13044.12197841921",
         "208.08770600996073",
         "9.094839930363268",
         "0.9736162773065452"
        ],
        [
         "36",
         "370",
         "0.4700000000000003",
         "-15405.375204602162",
         "2383.97535858047",
         "-13021.399846021692",
         "215.50269127418295",
         "9.110235913202406",
         "0.9719708995534188"
        ],
        [
         "37",
         "380",
         "0.4800000000000003",
         "-15327.14211530034",
         "2353.678672368883",
         "-12973.463442931456",
         "212.7639811647067",
         "9.132398355793663",
         "0.9696121271452856"
        ],
        [
         "38",
         "390",
         "0.4900000000000004",
         "-15359.060989416652",
         "2425.7037156152383",
         "-12933.357273801414",
         "219.27478279814784",
         "9.132398355793663",
         "0.9696121271452856"
        ],
        [
         "39",
         "400",
         "0.5000000000000003",
         "-15344.426649468587",
         "2441.6417612716855",
         "-12902.784888196902",
         "220.7155240877979",
         "9.135877275084432",
         "0.9692429012644952"
        ],
        [
         "40",
         "410",
         "0.5100000000000003",
         "-15308.322425081107",
         "2420.2877314689345",
         "-12888.034693612171",
         "218.78519755339025",
         "9.135877275084432",
         "0.9692429012644952"
        ],
        [
         "41",
         "420",
         "0.5200000000000004",
         "-15257.819995156531",
         "2390.2427345506862",
         "-12867.577260605847",
         "216.06923923951635",
         "9.135877275084432",
         "0.9692429012644952"
        ],
        [
         "42",
         "430",
         "0.5300000000000004",
         "-15257.274174081407",
         "2417.848014238725",
         "-12839.426159842684",
         "218.56465599990236",
         "9.135877275084432",
         "0.9692429012644952"
        ],
        [
         "43",
         "440",
         "0.5400000000000004",
         "-15297.466298354151",
         "2462.865120106169",
         "-12834.601178247984",
         "222.63403844250675",
         "9.072848054505524",
         "0.9759762472051894"
        ],
        [
         "44",
         "450",
         "0.5500000000000004",
         "-15275.561861124828",
         "2464.3772809544744",
         "-12811.184580170351",
         "222.7707322767263",
         "9.072848054505524",
         "0.9759762472051894"
        ],
        [
         "45",
         "460",
         "0.5600000000000004",
         "-15298.829845133014",
         "2515.750894340058",
         "-12783.078950792957",
         "227.41471985202784",
         "9.10964870655132",
         "0.972033552658414"
        ],
        [
         "46",
         "470",
         "0.5700000000000004",
         "-15272.348350500251",
         "2525.161266128096",
         "-12747.187084372155",
         "228.2653831942112",
         "9.130901213821431",
         "0.9697711089345245"
        ],
        [
         "47",
         "480",
         "0.5800000000000004",
         "-15205.481741906831",
         "2436.2871741760227",
         "-12769.194567730809",
         "220.23148891284356",
         "9.130901213821431",
         "0.9697711089345245"
        ],
        [
         "48",
         "490",
         "0.5900000000000004",
         "-15318.181968034309",
         "2553.2198978404576",
         "-12764.96207019385",
         "230.80178132673447",
         "9.096655212813838",
         "0.97342198737245"
        ],
        [
         "49",
         "500",
         "0.6000000000000004",
         "-15356.684806903602",
         "2646.737298922593",
         "-12709.947507981007",
         "239.2554138450536",
         "9.12801367419245",
         "0.9700778846042418"
        ]
       ],
       "shape": {
        "columns": 8,
        "rows": 5000
       }
      },
      "text/html": [
       "<div>\n",
       "<style scoped>\n",
       "    .dataframe tbody tr th:only-of-type {\n",
       "        vertical-align: middle;\n",
       "    }\n",
       "\n",
       "    .dataframe tbody tr th {\n",
       "        vertical-align: top;\n",
       "    }\n",
       "\n",
       "    .dataframe thead th {\n",
       "        text-align: right;\n",
       "    }\n",
       "</style>\n",
       "<table border=\"1\" class=\"dataframe\">\n",
       "  <thead>\n",
       "    <tr style=\"text-align: right;\">\n",
       "      <th></th>\n",
       "      <th>#\"Step\"</th>\n",
       "      <th>Time (ps)</th>\n",
       "      <th>Potential Energy (kJ/mole)</th>\n",
       "      <th>Kinetic Energy (kJ/mole)</th>\n",
       "      <th>Total Energy (kJ/mole)</th>\n",
       "      <th>Temperature (K)</th>\n",
       "      <th>Box Volume (nm^3)</th>\n",
       "      <th>Density (g/mL)</th>\n",
       "    </tr>\n",
       "  </thead>\n",
       "  <tbody>\n",
       "    <tr>\n",
       "      <th>0</th>\n",
       "      <td>10</td>\n",
       "      <td>0.11</td>\n",
       "      <td>-15852.863671</td>\n",
       "      <td>1946.993188</td>\n",
       "      <td>-13905.870483</td>\n",
       "      <td>176.001094</td>\n",
       "      <td>9.353182</td>\n",
       "      <td>0.946724</td>\n",
       "    </tr>\n",
       "    <tr>\n",
       "      <th>1</th>\n",
       "      <td>20</td>\n",
       "      <td>0.12</td>\n",
       "      <td>-15597.068406</td>\n",
       "      <td>1758.497530</td>\n",
       "      <td>-13838.570876</td>\n",
       "      <td>158.961773</td>\n",
       "      <td>9.353182</td>\n",
       "      <td>0.946724</td>\n",
       "    </tr>\n",
       "    <tr>\n",
       "      <th>2</th>\n",
       "      <td>30</td>\n",
       "      <td>0.13</td>\n",
       "      <td>-15719.284506</td>\n",
       "      <td>1757.676208</td>\n",
       "      <td>-13961.608297</td>\n",
       "      <td>158.887529</td>\n",
       "      <td>9.338105</td>\n",
       "      <td>0.948253</td>\n",
       "    </tr>\n",
       "    <tr>\n",
       "      <th>3</th>\n",
       "      <td>40</td>\n",
       "      <td>0.14</td>\n",
       "      <td>-15856.482367</td>\n",
       "      <td>2010.354291</td>\n",
       "      <td>-13846.128076</td>\n",
       "      <td>181.728707</td>\n",
       "      <td>9.338105</td>\n",
       "      <td>0.948253</td>\n",
       "    </tr>\n",
       "    <tr>\n",
       "      <th>4</th>\n",
       "      <td>50</td>\n",
       "      <td>0.15</td>\n",
       "      <td>-15583.168041</td>\n",
       "      <td>1850.758898</td>\n",
       "      <td>-13732.409143</td>\n",
       "      <td>167.301865</td>\n",
       "      <td>9.268756</td>\n",
       "      <td>0.955348</td>\n",
       "    </tr>\n",
       "    <tr>\n",
       "      <th>...</th>\n",
       "      <td>...</td>\n",
       "      <td>...</td>\n",
       "      <td>...</td>\n",
       "      <td>...</td>\n",
       "      <td>...</td>\n",
       "      <td>...</td>\n",
       "      <td>...</td>\n",
       "      <td>...</td>\n",
       "    </tr>\n",
       "    <tr>\n",
       "      <th>4995</th>\n",
       "      <td>49960</td>\n",
       "      <td>50.06</td>\n",
       "      <td>-14399.581223</td>\n",
       "      <td>3315.126929</td>\n",
       "      <td>-11084.454295</td>\n",
       "      <td>299.675402</td>\n",
       "      <td>8.586259</td>\n",
       "      <td>1.031285</td>\n",
       "    </tr>\n",
       "    <tr>\n",
       "      <th>4996</th>\n",
       "      <td>49970</td>\n",
       "      <td>50.07</td>\n",
       "      <td>-14448.337692</td>\n",
       "      <td>3320.166359</td>\n",
       "      <td>-11128.171332</td>\n",
       "      <td>300.130949</td>\n",
       "      <td>8.586259</td>\n",
       "      <td>1.031285</td>\n",
       "    </tr>\n",
       "    <tr>\n",
       "      <th>4997</th>\n",
       "      <td>49980</td>\n",
       "      <td>50.08</td>\n",
       "      <td>-14448.884486</td>\n",
       "      <td>3343.899860</td>\n",
       "      <td>-11104.984626</td>\n",
       "      <td>302.276371</td>\n",
       "      <td>8.556562</td>\n",
       "      <td>1.034865</td>\n",
       "    </tr>\n",
       "    <tr>\n",
       "      <th>4998</th>\n",
       "      <td>49990</td>\n",
       "      <td>50.09</td>\n",
       "      <td>-14419.638159</td>\n",
       "      <td>3334.846615</td>\n",
       "      <td>-11084.791544</td>\n",
       "      <td>301.457990</td>\n",
       "      <td>8.648801</td>\n",
       "      <td>1.023828</td>\n",
       "    </tr>\n",
       "    <tr>\n",
       "      <th>4999</th>\n",
       "      <td>50000</td>\n",
       "      <td>50.10</td>\n",
       "      <td>-14345.658959</td>\n",
       "      <td>3278.600705</td>\n",
       "      <td>-11067.058254</td>\n",
       "      <td>296.373565</td>\n",
       "      <td>8.568750</td>\n",
       "      <td>1.033393</td>\n",
       "    </tr>\n",
       "  </tbody>\n",
       "</table>\n",
       "<p>5000 rows × 8 columns</p>\n",
       "</div>"
      ],
      "text/plain": [
       "      #\"Step\"  Time (ps)  Potential Energy (kJ/mole)  \\\n",
       "0          10       0.11               -15852.863671   \n",
       "1          20       0.12               -15597.068406   \n",
       "2          30       0.13               -15719.284506   \n",
       "3          40       0.14               -15856.482367   \n",
       "4          50       0.15               -15583.168041   \n",
       "...       ...        ...                         ...   \n",
       "4995    49960      50.06               -14399.581223   \n",
       "4996    49970      50.07               -14448.337692   \n",
       "4997    49980      50.08               -14448.884486   \n",
       "4998    49990      50.09               -14419.638159   \n",
       "4999    50000      50.10               -14345.658959   \n",
       "\n",
       "      Kinetic Energy (kJ/mole)  Total Energy (kJ/mole)  Temperature (K)  \\\n",
       "0                  1946.993188           -13905.870483       176.001094   \n",
       "1                  1758.497530           -13838.570876       158.961773   \n",
       "2                  1757.676208           -13961.608297       158.887529   \n",
       "3                  2010.354291           -13846.128076       181.728707   \n",
       "4                  1850.758898           -13732.409143       167.301865   \n",
       "...                        ...                     ...              ...   \n",
       "4995               3315.126929           -11084.454295       299.675402   \n",
       "4996               3320.166359           -11128.171332       300.130949   \n",
       "4997               3343.899860           -11104.984626       302.276371   \n",
       "4998               3334.846615           -11084.791544       301.457990   \n",
       "4999               3278.600705           -11067.058254       296.373565   \n",
       "\n",
       "      Box Volume (nm^3)  Density (g/mL)  \n",
       "0              9.353182        0.946724  \n",
       "1              9.353182        0.946724  \n",
       "2              9.338105        0.948253  \n",
       "3              9.338105        0.948253  \n",
       "4              9.268756        0.955348  \n",
       "...                 ...             ...  \n",
       "4995           8.586259        1.031285  \n",
       "4996           8.586259        1.031285  \n",
       "4997           8.556562        1.034865  \n",
       "4998           8.648801        1.023828  \n",
       "4999           8.568750        1.033393  \n",
       "\n",
       "[5000 rows x 8 columns]"
      ]
     },
     "metadata": {},
     "output_type": "display_data"
    }
   ],
   "source": [
    "import pandas as pd\n",
    "\n",
    "data = pd.read_csv(\"water_box/water.out\",sep=\"\\t\")\n",
    "display(data)\n",
    "#using iloc I can select the 3rd column\n",
    "myPE = data.iloc[:,2]\n",
    "myKE = data.iloc[:,3]\n",
    "myT = data.iloc[:,5]\n",
    "myDens = data.iloc[:,7]"
   ]
  },
  {
   "cell_type": "code",
   "execution_count": 2,
   "id": "01c95178",
   "metadata": {},
   "outputs": [
    {
     "data": {
      "text/plain": [
       "[<matplotlib.lines.Line2D at 0x13f6c0140>]"
      ]
     },
     "execution_count": 2,
     "metadata": {},
     "output_type": "execute_result"
    },
    {
     "data": {
      "image/png": "[encoded data removed]",
      "text/plain": [
       "<Figure size 640x480 with 1 Axes>"
      ]
     },
     "metadata": {},
     "output_type": "display_data"
    }
   ],
   "source": [
    "import matplotlib.pyplot as plt\n",
    "\n",
    "plt.plot(myPE)\n",
    "plt.plot(myPE[200:])"
   ]
  },
  {
   "cell_type": "code",
   "execution_count": 3,
   "id": "cefc03eb",
   "metadata": {},
   "outputs": [
    {
     "data": {
      "text/plain": [
       "[<matplotlib.lines.Line2D at 0x13f72bb90>]"
      ]
     },
     "execution_count": 3,
     "metadata": {},
     "output_type": "execute_result"
    },
    {
     "data": {
      "image/png": "[encoded data removed]",
      "text/plain": [
       "<Figure size 640x480 with 1 Axes>"
      ]
     },
     "metadata": {},
     "output_type": "display_data"
    }
   ],
   "source": [
    "plt.plot(myDens)\n",
    "plt.plot(myDens[200:])"
   ]
  },
  {
   "cell_type": "code",
   "execution_count": 5,
   "id": "0ff91354",
   "metadata": {},
   "outputs": [
    {
     "data": {
      "text/plain": [
       "[<matplotlib.lines.Line2D at 0x12f204740>]"
      ]
     },
     "execution_count": 5,
     "metadata": {},
     "output_type": "execute_result"
    },
    {
     "data": {
      "image/png": "[encoded data removed]",
      "text/plain": [
       "<Figure size 640x480 with 1 Axes>"
      ]
     },
     "metadata": {},
     "output_type": "display_data"
    }
   ],
   "source": [
    "\n",
    "plt.plot(myT)\n",
    "plt.plot(myT[200:])"
   ]
  },
  {
   "cell_type": "markdown",
   "id": "8b334099",
   "metadata": {},
   "source": [
    "Your turn\n",
    "* In a similar fashion as above, plot the kinetic energy, the total energy of the system, and the temperature\n",
    "* Why is the kinetic energy always positive and the potential always negative?\n",
    "* At what portion of the simulation are your properties stable enough that allow you to start \"measuring\"?\n",
    "\n",
    "The heat capacity can also be computed from the simulation using the total energy average of squares.\n",
    "\n",
    "$$\n",
    "<E>^2 - <E^2>\n",
    "$$\n",
    "\n",
    "* Build a loop to calculate the heat capacity (we won't be discussing its units for now)"
   ]
  },
  {
   "cell_type": "code",
   "execution_count": 6,
   "id": "6902292f",
   "metadata": {},
   "outputs": [
    {
     "name": "stdout",
     "output_type": "stream",
     "text": [
      "70213.67867276073\n"
     ]
    }
   ],
   "source": [
    "totE = data.iloc[:,4]\n",
    "\n",
    "aveE = 0\n",
    "aveE2 = 0\n",
    "for e in totE:\n",
    "    e = float(e)\n",
    "    aveE += e\n",
    "    aveE2 += e**2\n",
    "\n",
    "totSteps = len(totE)\n",
    "\n",
    "averageE_squared = (aveE/totSteps)**2\n",
    "averageSquared_E = (aveE2/totSteps)\n",
    "\n",
    "print(averageSquared_E-averageE_squared)"
   ]
  },
  {
   "cell_type": "markdown",
   "id": "b4936e0f",
   "metadata": {},
   "source": [
    "* You can use MDanalysis to read the trajectory. Here below is an example where we monitor the distance between two oxygens in two different waters. How can you explain the big jumps in distance?"
   ]
  },
  {
   "cell_type": "code",
   "execution_count": 58,
   "id": "8d460d55",
   "metadata": {},
   "outputs": [
    {
     "data": {
      "image/png": "[encoded data removed]",
      "text/plain": [
       "<Figure size 432x288 with 1 Axes>"
      ]
     },
     "metadata": {
      "needs_background": "light"
     },
     "output_type": "display_data"
    }
   ],
   "source": [
    "import MDAnalysis as mda\n",
    "import numpy as np\n",
    "\n",
    "u = mda.Universe('water_box/water-processed.pdb','water_box/water.dcd')\n",
    "\n",
    "dist = []\n",
    "for snap in u.trajectory:\n",
    "    #selecting the central atom\n",
    "    myO1 = u.select_atoms(\"name O and segid 2\").center_of_geometry()\n",
    "    myO2 = u.select_atoms(\"name O and resid 2 and segid 3\").center_of_geometry()\n",
    "    #selecting\n",
    "    myDist = np.linalg.norm(myO1-myO2)\n",
    "    dist.append(myDist)\n",
    "\n",
    "plt.plot(dist);"
   ]
  },
  {
   "cell_type": "markdown",
   "id": "f6770684",
   "metadata": {},
   "source": [
    "* Fun exercise: Using raw python (no extra modules) open the initial pdb file, read line by line, and find the water that is closest to first water and follow its distance throughout the trajectory."
   ]
  },
  {
   "cell_type": "markdown",
   "id": "a48ec50b",
   "metadata": {},
   "source": [
    "# Questions\n",
    "\n",
    "* Submit the answers to the questions listed above\n"
   ]
  }
 ],
 "metadata": {
  "kernelspec": {
   "display_name": "pchem",
   "language": "python",
   "name": "python3"
  },
  "language_info": {
   "codemirror_mode": {
    "name": "ipython",
    "version": 3
   },
   "file_extension": ".py",
   "mimetype": "text/x-python",
   "name": "python",
   "nbconvert_exporter": "python",
   "pygments_lexer": "ipython3",
   "version": "3.12.2"
  },
  "toc": {
   "base_numbering": 1,
   "nav_menu": {},
   "number_sections": true,
   "sideBar": true,
   "skip_h1_title": false,
   "title_cell": "Table of Contents",
   "title_sidebar": "Contents",
   "toc_cell": true,
   "toc_position": {},
   "toc_section_display": true,
   "toc_window_display": true
  }
 },
 "nbformat": 4,
 "nbformat_minor": 5
}
