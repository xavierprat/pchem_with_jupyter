{
 "cells": [
  {
   "cell_type": "markdown",
   "metadata": {},
   "source": [
    "# Module 4: Molecular simulations and Thermodynamics\n",
    "\n",
    "The sections included here are\n",
    "\n",
    "1. Introduction to Molecular Dynamics\n",
    "\n",
    "    1. For non-ideal gases, the partition function is not analytical\n",
    "    2. First step of molecular dynamics: initial position of your particles\n",
    "    3. Second step: calculate the potential energy\n",
    "    4. Third step: give velocity to particles for thermal distribution\n",
    "    5. Solve equations of motion step by step: run a simple molecular dynamics\n",
    "\n",
    "2. Introduction to molecular simulations\n",
    "\n",
    "    1. Identifying the main charactersitics of molecular simulations\n",
    "    2. Running a molecular dynamics simulation of water\n",
    "    3. Analyzing a molecular dynamics simulation of water\n",
    "\n",
    "3. Calculating free energies of molecular systems\n",
    "\n",
    "    1. Free energies as a function of a geometric parameter\n",
    "    2. Free energy of rotation of ethane\n",
    "    3. The free energy along the dihedral angle of butane\n",
    "\n",
    "\n"
   ]
  }
 ],
 "metadata": {
  "kernelspec": {
   "display_name": "fortran-env",
   "language": "python",
   "name": "python3"
  },
  "language_info": {
   "name": "python",
   "version": "3.13.1"
  }
 },
 "nbformat": 4,
 "nbformat_minor": 2
}