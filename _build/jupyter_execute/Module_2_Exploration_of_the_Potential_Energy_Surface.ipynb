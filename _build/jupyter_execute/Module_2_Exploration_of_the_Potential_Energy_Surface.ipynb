{
 "cells": [
  {
   "cell_type": "markdown",
   "metadata": {},
   "source": [
    "# Module 2: Exploration of the PES\n",
    "\n",
    "Module 2 is optional and it may be skipped due to time restrictions"
   ]
  }
 ],
 "metadata": {
  "language_info": {
   "name": "python"
  }
 },
 "nbformat": 4,
 "nbformat_minor": 2
}