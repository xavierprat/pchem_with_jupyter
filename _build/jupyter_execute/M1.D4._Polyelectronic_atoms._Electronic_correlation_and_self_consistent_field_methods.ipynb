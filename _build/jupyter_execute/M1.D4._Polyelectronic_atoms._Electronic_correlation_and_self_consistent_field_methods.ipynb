{
 "cells": [
  {
   "cell_type": "markdown",
   "id": "e342881b",
   "metadata": {},
   "source": [
    "# Module 1 - Day 4: Polyelectronic atoms. Electronic correlation and self-consistent field methods\n",
    "\n",
    "## Learning objectives:\n",
    "\n",
    "* Explain the \"many-body\" problem in terms of how the Schrodinger equation for polyelectronic atoms has a term that does not allow us to separate the problem into independent electrons and therefore obtaining an exact solution.\n",
    "* The Hartree-Fock method: Explain variational and mean-field approaches to the solution and the need for a basis set. Explain the Self Consistent Field method.\n",
    "* Understand and predict the possible spin multiplicity in an atom\n",
    "* Using pyscf package to calculate ground states of atoms and other excited spin states.\n",
    "* Using pyscf package to calculate ionization energies\n",
    "* Learning to read and write files with Python\n",
    "\n",
    "\n",
    "# The Hamiltonian for polyelectronic atoms\n",
    "\n",
    "$$\n",
    "\\hat{H} = \\text{Kinetic Energy} + \\text{Potential Energy}\n",
    "$$\n",
    "For atoms in atomic units:\n",
    "\n",
    "$$\n",
    "\\hat{H} = -\\frac{1}{2}\\nabla_{nucleus} -\\frac{1}{2}\\sum_{i=elec} \\nabla_i + \\sum_{i=elec} \\frac{q_{i}q_{nucl}}{r_{i}} + \\sum_{i,j=elec} \\frac{q_{i}q_{j}}{r_{ij}}\n",
    "$$\n",
    "\n",
    "Translated into English we have:\n",
    "\n",
    "$$\n",
    "\\hat{H} = \\text{Kinetic of nucleus} + \\sum{\\text{Kinetic of e-}} + \\sum{\\text{attraction of elec-nucl}} + \\sum{\\text{Repulsion elec-elect}}\n",
    "$$\n",
    "\n",
    "Notice that if it weren't for the last term, the electron-electron repulsion, our Hamiltonian could be written just like a sum of hydrogen-like hamiltonians (independent electrons $\\hat{h}_i$)\n",
    "\n",
    "$$\n",
    "\\hat{H} = \\sum_{i=elec} \\hat{h}_i + \\sum_{i,j=elec} \\frac{q_{i}q_{j}}{r} \n",
    "$$\n",
    "\n",
    "\n",
    "\n",
    "**The good news**: if we could ignore the repulsion e-e ($\\sum_{i,j=elec} \\frac{q_{i}q_{j}}{r_{ij}}$) we could use the hydrogen atom solutions (1s, 2s, 2p...).\n",
    "Algebra of operators tell us that sum of operators give product of eigenfunctions and sum of energies. In other words, **IF** we ignore the electron repulsions:\n",
    "\n",
    "* $\\hat{H} = \\sum_{i=elec} \\hat{h}_i$\n",
    "* The wavefunction is what we know as electronic configurations: $\\Psi=\\phi_{1s}\\phi_{2s}\\phi_{2p}...$\n",
    "* The energy is the sum of each electron on separate orbitals: $E=E(1s) + E(2s) + E(2p)$\n",
    "\n",
    "**The bad news**: While we may still use the electronic configuration (1s2s2p...) to rationalize a lot of atom behavior in chemistry, the energy contribution of the electronic repulsion is too large to obtain any quantitative energetic study.\n",
    "\n",
    "This problem is yet another example of what is known as [the many-body problem](https://en.wikipedia.org/wiki/Many-body_problem) where an interacting system cannot be simplified as a sum of its parts.\n",
    "\n",
    " Another complication is that electrons because they are fermions (fractional spin) cannot be expressed just as a linear combination of basis, they need to be described with a determinant ([Slater determinant](https://en.wikipedia.org/wiki/Slater_determinant)). So, just keep in mind that in the above equation $\\Psi$ cannot just be a product of functions, it has to be a *symmetrized product*. Nothing to worry about, but it will bring two types of electron repulsions, the coulomb repulsions that we already know but also the fermionic ones. Stay tuned.\n",
    " "
   ]
  },
  {
   "cell_type": "markdown",
   "id": "8ceffb4b",
   "metadata": {},
   "source": [
    "# The Self-Consistent Field solution (SCF) or Hartree-Fock\n",
    "\n",
    "\n",
    "A very common approach to many-body problems like polyelectronic atoms is the use the Variational method. In this case, this method tell us that any function that we try for our Hamiltonian has an expectation value of the energy that is an upper bound to the ground state energy of the system. We could just do some trial-and-error, put any function in the Hamiltonian and see which one gives us the lowest value. A more elegant way is to minimize the energy using the [Lagrange Multiplier Method](https://en.wikipedia.org/wiki/Lagrange_multiplier)\n",
    "\n",
    "We still need to start with a function, a guess.\n",
    "\n",
    "## The need for a base\n",
    "\n",
    "As we said above, the hydrogen atomic orbitals (1s,2s,2p...) are not the solution, but they can be used as a beginning! We can use what is called in linear algebra a [base](https://en.wikipedia.org/wiki/Basis_(linear_algebra)). \n",
    "\n",
    "You know that a 3D vector can be expressed in terms of the base $\\overrightarrow{i}, \\overrightarrow{j}, \\overrightarrow{k}$. So:\n",
    "\n",
    "$$\n",
    "(2,-3,3) = 2\\cdot\\overrightarrow{i} - 3\\cdot\\overrightarrow{j} + 3\\cdot\\overrightarrow{k}\n",
    "$$\n",
    "\n",
    "or more generally we can generate any vector $\\overrightarrow{v}$ as a linear combination of a base $\\{u_i\\}$ and its coefficients $\\{u_i\\}$.\n",
    "\n",
    "$$\n",
    "\\overrightarrow{v} = \\sum_{i} c_i\\cdot u_i\n",
    "$$\n",
    "\n",
    "We can express the wavefunction that we need to know as a combination of functions (bases) that we already know \n",
    "\n",
    "$$\n",
    "\\Psi = \\sum_i c_i \\cdot \\phi_i\n",
    "$$\n",
    "\n",
    "The problem is now numerical a numerical one, this is . We need to find the best coefficients $\\{c_i\\}$ that give us the lowest possible energy.\n",
    "\n",
    "We are skipping many steps but what is important is that \n",
    "1. The choice of a base is important\n",
    "2. The process will be iterative\n",
    "\n",
    "This whole process is called the [Hartree-Fock method](https://en.wikipedia.org/wiki/Hartree%E2%80%93Fock_method)\n",
    "\n",
    "1. Suggest a base (a collection of functions), a charge (number of electrons) and spin (number of unpaired electrons)\n",
    "1. Give a guess to the coefficients $\\{c_i\\}$\n",
    "2. Build the Fock matrix\n",
    "3. Because our base is not orthogonal we have to carry what is called an overlap matrix which takes care of the orthonormalization of our base.\n",
    "3. Diagonzalize the matrices.\n",
    "4. Find out if the energy has lowered enough from the previous point. That is, if $\\Delta E$ is lower than a threshold. If not, suggest a new change to $\\{c_i\\}$ and go back to point 2."
   ]
  },
  {
   "cell_type": "markdown",
   "id": "20b52fbe",
   "metadata": {},
   "source": [
    "# Quantum chemistry packages: pyscf\n",
    "\n",
    "\n",
    "\n",
    "The [PySCF](https://pyscf.org/) is a quantum chemistry package that will take care of all the calculations. We will have to input the following information:\n",
    "\n",
    "* Geometry of the system in xyz coodinates. For one atom of course we can just place it in (0,0,0)\n",
    "* Identity of the atoms that compose our system: H, He, Li...\n",
    "* Charge of the system, if it's neutral the charge is zero.\n",
    "* Spin: the number of unpaired electrons in the electronic configuration that you want to calculate. When there are unpaired electrons we will use the UHF method.\n",
    "\n",
    "Before you run the scripts below, make sure you have installed the pyscf libraries"
   ]
  },
  {
   "cell_type": "markdown",
   "id": "7e8feb24",
   "metadata": {},
   "source": [
    "## Single point calculations. Reading the output\n",
    "\n",
    "We are going to run a single-point calculation of the energy for the atom of lithium.\n",
    "Notice that the basis set used here is 'sto-3g' which is the smallest, also known minimimal basis set where each orbital is represented by one function.\n",
    "\n",
    "Pay attention to the geometry:\n",
    "* charge is zero\n",
    "* spin in this case refers to the number of unpaired electrons\n",
    "* one single atom can be in the center of the xyz space: x=0, y=0, z=0.\n",
    "\n",
    "The set_options are:\n",
    "* basis is sto-3g\n",
    "* reference uhf because of unpaired electrons (use rhf for all paired electrons)\n",
    "* [scf_type](https://psicode.org/psi4manual/master/autodir_options_c/globals__scf_type.html) specifies one specific convergece algorithm."
   ]
  },
  {
   "cell_type": "code",
   "execution_count": null,
   "id": "b52d62a6",
   "metadata": {},
   "outputs": [],
   "source": [
    "from pyscf import gto, scf\n",
    "\n",
    "mol = gto.M(atom=\"Li 0 0 0\", \n",
    "            basis=\"sto-3g\", \n",
    "            charge=0, \n",
    "            spin=1,# spin=1 for one unpaired electron: 1s2 2s1\n",
    "            verbose=5,\n",
    "            output='m1d4_lithium.out')  #you can write a verbose output into a file\n",
    "\n",
    "\n",
    "\n",
    "li = scf.UHF(mol) #Using UHF for unpaired electrons instead of RHF for paired electrons\n",
    "li.kernel()\n",
    "# Orbital energies, Mulliken population etc.\n",
    "li.analyze()\n",
    "\n",
    "# Access information about the calculation\n",
    "print(\"SCF Converged:\", li.converged)\n",
    "print(\"Total Energy:\", li.e_tot)"
   ]
  },
  {
   "cell_type": "markdown",
   "id": "3a4b0b60",
   "metadata": {},
   "source": [
    "The output in the previous cell is so large that it masks the line where we print the energy.\n",
    "We are now going to run the same calculation. However, we will write the results in a file that will appear in the same folder as where this notebook is."
   ]
  },
  {
   "cell_type": "markdown",
   "id": "ab43a5cd",
   "metadata": {},
   "source": [
    "Pay special attention to the code below. It opens the file and reads it line by line until it finds the line where the \"Total Energy\" is written."
   ]
  },
  {
   "cell_type": "code",
   "execution_count": null,
   "id": "71915f5b",
   "metadata": {},
   "outputs": [],
   "source": [
    "#myoutput will be an array containing the lines of the file\n",
    "myoutput = open('m1d4_lithium.out','r').readlines()\n",
    "\n",
    "for line in myoutput:\n",
    "    #print(line)\n",
    "    if 'Total Energy' in line:\n",
    "        ene = line\n",
    "print(ene)"
   ]
  },
  {
   "cell_type": "markdown",
   "id": "0c9704b1",
   "metadata": {},
   "source": [
    "Your turn: \n",
    "* How many iterations of the \"Self Consistent Field\" did it take to converge the energy?\n",
    "* What is the energy of the 1s and 2s orbitals?"
   ]
  },
  {
   "cell_type": "markdown",
   "id": "931ddc01",
   "metadata": {},
   "source": [
    "## Testing basis sets\n",
    "\n",
    "The [variational method](https://en.wikipedia.org/wiki/Variational_method_(quantum_mechanics)) tell us that the larger the basis set the better the result is. Since we know that the energy of hydrogen is -0.5 hartrees we can test this assumption by changing the basis set.\n",
    "\n",
    "https://github.com/pyscf/pyscf/blob/master/examples/gto/04-input_basis.py "
   ]
  },
  {
   "cell_type": "code",
   "execution_count": null,
   "id": "5426ecc5",
   "metadata": {},
   "outputs": [],
   "source": [
    "\n",
    "# ==> Compute H atom energy with Hartree-Fock using pyscf <==\n",
    "\n",
    "# the H atom has a charge of 0, and one unpaired electron\n",
    "# and we place it at the xyz origin (0,0,0)\n",
    "\n",
    "\n",
    "basis = [\"sto3g\",\"3-21g\",\"6-31g\",\"ccpvdz\"]\n",
    "for base in basis:\n",
    "    mol = gto.M(atom=\"H 0 0 0\", \n",
    "        basis=base, \n",
    "        charge=0, \n",
    "        spin=1,# spin=1 for one unpaired electron: 1s1\n",
    "        verbose=4,\n",
    "        output='m1d4_H_'+base+'.out')  \n",
    "    h = scf.UHF(mol).run() #Using UHF for unpaired electrons instead of RHF for paired electrons\n",
    "    print(h.e_tot)\n",
    "\n"
   ]
  },
  {
   "cell_type": "markdown",
   "id": "029b0fc0",
   "metadata": {},
   "source": [
    "## Different levels of theory\n",
    "\n"
   ]
  },
  {
   "cell_type": "code",
   "execution_count": null,
   "id": "9771b02e",
   "metadata": {},
   "outputs": [],
   "source": [
    "from pyscf import dft\n",
    "def calc_H_level(level,basisset,myatom,mycharge,myspin):\n",
    "    mol = gto.M(atom=myatom+\" 0 0 0\", \n",
    "        basis=basisset, \n",
    "        charge=mycharge, \n",
    "        spin=myspin,# spin=1 for one unpaired electron: 1s2 2s1\n",
    "        verbose=4,\n",
    "        output='m1d4_'+myatom+'_'+str(mycharge)+'_'+basisset+'_'+level+'.out')  \n",
    "\n",
    "    if level == \"HF\":\n",
    "        li = scf.UHF(mol).run() \n",
    "    elif level == \"b3lyp\":\n",
    "        li = dft.UKS(mol) #unrestricted kohn-sham instead of hartree fock\n",
    "        li.xc = 'b3lyp'\n",
    "        li.kernel()\n",
    "    elif level == \"MP2\":\n",
    "        li = scf.UHF(mol).run() \n",
    "        li.MP2().run()\n",
    "    elif level == \"CISD\":\n",
    "        li = scf.UHF(mol).run() \n",
    "        li = li.CISD().run()\n",
    "    elif level == \"CCSD\":\n",
    "        li = scf.UHF(mol).run() \n",
    "        li = li.CCSD().run()\n",
    "\n",
    "    if li.converged:\n",
    "        return(li.e_tot)\n",
    "    else:\n",
    "        return(\"not converged\")\n",
    "\n",
    "levels = [\"HF\",\"b3lyp\",\"MP2\",\"CISD\"]\n",
    "H_energy = []\n",
    "for level in levels:\n",
    "   thisEne = calc_H_level(level,'6-31g','H',0,1)\n",
    "   H_energy.append(thisEne)\n",
    "   print(\"**Level: \"+level+\" energy =\"+str( thisEne))"
   ]
  },
  {
   "cell_type": "code",
   "execution_count": null,
   "id": "480a0ac2",
   "metadata": {},
   "outputs": [],
   "source": [
    "print(H_energy)"
   ]
  },
  {
   "cell_type": "markdown",
   "id": "1d9490c7",
   "metadata": {},
   "source": [
    "# Ionization energy of atoms\n",
    "\n",
    "The ionization energy is the energy that it takes to remove the electron.\n",
    "\n",
    "* The first ionization energy of lithium will be = $E_{Li}$ - $E_{Li^+}$\n",
    "* The second ionization energy of lithium will be = $E_{Li^+}$ - $E_{Li^{2+}}$\n",
    "\n",
    "So one just need to calculate the energy of those different atoms and do the difference.\n",
    "Notice that the spin state is different in each case.\n",
    "\n",
    "* Li has 1s2 2s1, so one unpaired electron s=1/2; 2s+1=2; use the uhf method\n",
    "* Li(+) has 1s2, and no unpaired electrons s=0; 2s+1=1; use the rhf method\n",
    "* Li(2+) has 1s1, so one unpaired electron again s=1/2; 2s+1=2; use the uhf method\n",
    "\n",
    "**Restricted and Unrestricted wavefunctions**\n",
    "\n",
    "<img width=\"300\" src=\"./restricted.png\">\n",
    "\n"
   ]
  },
  {
   "cell_type": "code",
   "execution_count": null,
   "id": "d672c1f8",
   "metadata": {},
   "outputs": [],
   "source": [
    "from scipy import constants\n",
    "\n",
    "hartree_value = 1  # Value in Hartree\n",
    "electronvolt_value = hartree_value * constants.physical_constants[\"Hartree energy in eV\"][0]\n",
    "\n",
    "level = 'b3lyp'\n",
    "basis = '6-31g'\n",
    "atom = 'Li'\n",
    "ene_Li_neutral = calc_H_level(level,basis,atom,0,1)\n",
    "ene_Li_cation = calc_H_level(level,basis,atom,1,0)\n",
    "\n",
    "ionE_Li = ene_Li_cation - ene_Li_neutral\n",
    "print(ionE_Li*electronvolt_value)"
   ]
  },
  {
   "cell_type": "code",
   "execution_count": null,
   "id": "b7e9770a",
   "metadata": {},
   "outputs": [],
   "source": [
    "level = 'b3lyp'\n",
    "basis = '6-31g'\n",
    "atom = 'Be'\n",
    "ene_Be_neutral = calc_H_level(level,basis,atom,0,0)\n",
    "ene_Be_cation = calc_H_level(level,basis,atom,1,1)\n",
    "\n",
    "ionE_Be = ene_Be_cation - ene_Be_neutral\n",
    "print(ionE_Be*electronvolt_value)"
   ]
  },
  {
   "cell_type": "markdown",
   "id": "68dce7fa",
   "metadata": {},
   "source": [
    "# Questions\n",
    "\n",
    "1. Calculate the 1st, 2nd and 3rd ionization energies of Beryllium, Boron, and Carbon. Pay special attention to the charge and spin multiplicity in each case. Remember to use uhf for unpaired electrons and rhf for paired electrons.\n",
    "    1. Investigate the effect of using different methods: the scf and the b3lyp method.\n",
    "    2. Investigate the effect of using different bassis sets: sto-3g and 6-31G**\n",
    "2. Save the output of each calculation in a separate file. Be systematic in the naming so you can read it in a loop. Since you are submitting your assignments folder, create a subfolder called M1D4 with all these files.\n",
    "3. Build a table containing ionization energies, number of basis sets in each calculation and time that it took to run the calculation. Do not do this manually, do it with a loop that opens each of the files. Start simple and grow in complexity checking every step.\n",
    "4. Plot the ionization energies"
   ]
  }
 ],
 "metadata": {
  "kernelspec": {
   "display_name": "fortran-env",
   "language": "python",
   "name": "python3"
  },
  "language_info": {
   "codemirror_mode": {
    "name": "ipython",
    "version": 3
   },
   "file_extension": ".py",
   "mimetype": "text/x-python",
   "name": "python",
   "nbconvert_exporter": "python",
   "pygments_lexer": "ipython3",
   "version": "3.13.1"
  },
  "toc": {
   "base_numbering": 1,
   "nav_menu": {},
   "number_sections": true,
   "sideBar": true,
   "skip_h1_title": false,
   "title_cell": "Table of Contents",
   "title_sidebar": "Contents",
   "toc_cell": true,
   "toc_position": {},
   "toc_section_display": true,
   "toc_window_display": false
  }
 },
 "nbformat": 4,
 "nbformat_minor": 5
}