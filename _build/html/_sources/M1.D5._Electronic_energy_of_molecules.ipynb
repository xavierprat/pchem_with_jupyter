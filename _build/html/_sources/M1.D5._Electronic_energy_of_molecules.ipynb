{
 "cells": [
  {
   "attachments": {},
   "cell_type": "markdown",
   "id": "02171dee",
   "metadata": {},
   "source": [
    "# M1.D5: Electronic energy of molecules\n",
    "\n",
    "## Learning Objectives\n",
    "\n",
    "* Use Cartesian coordinates to specify the geometry of a diatomic molecule.\n",
    "* Run \"single point\" energy calculations of diatomic molecules using the pyscf package. \n",
    "* Run \"restricted/closed shell\" and \"unrestricted/open shell\" calculations. \n",
    "* Compare the energy of the singlet and triplet electronic state for the diatomic molecules of oxygen and nitrogen \n",
    "* Given bond distances and bond angles, use internal coordinates to specify the geometry of water.\n",
    "* Compare the homolytic and heterolytic bond breaking of H2.\n",
    "\n",
    "# Electronic energy of molecules\n",
    "\n",
    "\n",
    "So far we have solved the following quantum systems:\n",
    "\n",
    "* Particle in box: 1 particle's kinetic energy, no potential. The solution was analytical (a function).\n",
    "* Hydrogen atom: 2 particle's kinetic energy, one attractive potential between the two. The solution albeit more complicated was still analytical.\n",
    "* Polyelectronic atoms: many particle's kinetic energy (independent of each other), atttactive potential and an extra electron-electron repulsion. The solution was not analytical and had to be solved computationally.\n",
    "\n",
    "Now we want to know how to solve molecules or groups of atoms interacting with each other. As usual the hamiltonian is the sum of kinetic and potential energy\n",
    "\n",
    "$$\n",
    "\\hat{H} = \\text{Kinetic Energy} + \\text{Potential Energy}\n",
    "$$\n",
    "\n",
    "For molecules in atomic units:\n",
    "\n",
    "$$\n",
    "\\hat{H} = \\sum_{k=nuclei}-\\frac{1}{2m_k}\\nabla_{k} -\\frac{1}{2}\\sum_{i=elec} \\nabla_i + \\sum_{k=nuclei}\\sum_{i=elec} \\frac{q_{i}q_{k}}{r_{ik}} + \\sum_{i,j=elec} \\frac{q_{i}q_{j}}{r_{ij}} + \\sum_{k,l=nuc}\\frac{q_{k}{q_{l}}}{r_{kl}}\n",
    "$$\n",
    "\n",
    "Translated into English we have:\n",
    "\n",
    "$$\n",
    "\\hat{H} = \\sum\\text{Kinetic of nucleus} + \\sum{\\text{Kinetic of e-}} + \\sum{\\text{attraction of elec-nucl}} + \\sum{\\text{Repulsion elec-elect}} + \\sum{\\text{repulsion between nuclei}}\n",
    "$$\n",
    "\n",
    "## The Born-Oppenheimer approximation and potential energy surface\n",
    "\n",
    "\"Let us define a molecule by a geometry structure determined by the nuclear positions. If the nuclei have fixed positions, the nuclear kinetic term vanishes and the nuclear repulsion term becomes a constant. The Hamiltonian expression of equation has a shortened form that we label as electronic Hamiltonian\"\n",
    "\n",
    "$$\n",
    "\\hat{H}_{elec} = -\\frac{1}{2}\\sum_{i=elec} \\nabla_i + \\sum_{k=nuclei}\\sum_{i=elec} \\frac{q_{i}q_{k}}{r_{ik}} + \\sum_{i,j=elec} \\frac{q_{i}q_{j}}{r_{ij}}\n",
    "$$\n",
    "\n",
    "So we can define the electronic energy $E_{elec}$ of a molecule as the eigenvalues of the electronic Hamiltonian\n",
    "\n",
    "$$\n",
    "\\hat{H}_{elec}\\Psi_{elec} = E_{elec}\\Psi_{elec} \n",
    "$$\n",
    "\n",
    "Without going into much detail it can be shown that the motion of the nuclei is mostly decoupled from the motion of the electrons, so we can imagine that the nuclei are moving on a single electronic state surface, the most common one being the ground electronic state. This surface is called the potential energy surface and the approximation that led us here is called the Born-Oppenheimer approximation.\n",
    "\n",
    "<img src=\"https://upload.wikimedia.org/wikipedia/commons/8/81/Potential_Energy_Surface_and_Corresponding_Reaction_Coordinate_Diagram.png\" width=\"500\" />"
   ]
  },
  {
   "cell_type": "markdown",
   "id": "a8c56a0d",
   "metadata": {},
   "source": [
    "# Single point energy of molecules\n",
    "\n",
    "The calculation below is the \"single point\" energy calculation of H2. \n",
    "The output is saved in the file 'h2_sp.txt'. Open it and try to rationalize the information in it."
   ]
  },
  {
   "cell_type": "code",
   "execution_count": null,
   "id": "ce724177",
   "metadata": {},
   "outputs": [
    {
     "name": "stdout",
     "output_type": "stream",
     "text": [
      "overwrite output file: m1d5_h2_sp.out\n",
      "-1.0790270257473757\n"
     ]
    }
   ],
   "source": [
    "from pyscf import gto\n",
    "\n",
    "molh2 = gto.M(\n",
    "    atom = 'H 0 0 0; H 0 0 0.53',  # in Angstrom\n",
    "    basis = '6-31g',\n",
    "    symmetry = True,\n",
    "    charge=0, \n",
    "    spin=0,\n",
    "    verbose=4,\n",
    "    output='m1d5_h2_sp.out')  \n",
    "\n",
    "h2 = molh2.RHF().run() #RHF Restricted Hartree-Fock. All electrons are paired\n",
    "\n",
    "print(h2.e_tot)"
   ]
  },
  {
   "cell_type": "markdown",
   "id": "1f1ced51",
   "metadata": {},
   "source": [
    "* Why did we use rhf and not uhf?\n",
    "* The geometry is introduced using cartesian coordinates (xyz). What is the bond distance in this case?\n",
    "\n",
    "Let's calculate the energy of the molecule of water. Notice the alternative way to give the geometry. These are called internal coordinates and they are convenient to introduce bond distances and angles."
   ]
  },
  {
   "cell_type": "code",
   "execution_count": 8,
   "id": "56967165",
   "metadata": {},
   "outputs": [
    {
     "name": "stdout",
     "output_type": "stream",
     "text": [
      "overwrite output file: m1d5_h2o_sp.out\n",
      "-76.00900934217299\n"
     ]
    }
   ],
   "source": [
    "#entering the geometry with internal coordinates\n",
    "molh2o = gto.M(\n",
    "    atom = '''\n",
    "    O\n",
    "    H    1  0.96\n",
    "    H    1  0.96 2 104.5\n",
    "    ''',\n",
    "    basis = '6-31g*',\n",
    "    symmetry = True,\n",
    "    charge=0, \n",
    "    spin=0,\n",
    "    verbose=4,\n",
    "    output='m1d5_h2o_sp.out'\n",
    ")\n",
    "h2o = molh2o.RHF().run()\n",
    "print(h2o.e_tot)"
   ]
  },
  {
   "cell_type": "markdown",
   "id": "1c72f451",
   "metadata": {},
   "source": [
    "## Assessing the energy of different spin states \n",
    "\n",
    "We cannot always foresee the most stable spin. If we want to calculate the energy of the molecule of oxygen, by drawing the Lewis structure we would see that all electrons are paired, therefore we would expect that the ground state is a singlet.\n",
    "\n",
    "**Let's compare the energy for the singlet and triplet of N2 and O2**"
   ]
  },
  {
   "cell_type": "code",
   "execution_count": 14,
   "id": "4f4793c9",
   "metadata": {},
   "outputs": [
    {
     "name": "stdout",
     "output_type": "stream",
     "text": [
      "overwrite output file: m1d5_o2_1.out\n",
      "overwrite output file: m1d5_o2_3.out\n",
      "-149.4533513245776\n",
      "-149.54579333299034\n"
     ]
    }
   ],
   "source": [
    "molo2_singlet = gto.M(\n",
    "    atom = 'O 0 0 0; O 0 0 1.2',  # in Angstrom\n",
    "    basis = '6-31g',\n",
    "    symmetry = True,\n",
    "    charge=0, \n",
    "    spin=0,\n",
    "    verbose=3,\n",
    "    output='m1d5_o2_1.out')  \n",
    "\n",
    "o2_singlet = molo2_singlet.RHF().run() #RHF Restricted Hartree-Fock. All electrons are paired\n",
    "o2_singlet.analyze()\n",
    "\n",
    "molo2_triplet = gto.M(\n",
    "    atom = 'O 0 0 0; O 0 0 1.2',  # in Angstrom\n",
    "    basis = '6-31g',\n",
    "    symmetry = True,\n",
    "    charge=0, \n",
    "    spin=2, #two unpaired electrons\n",
    "    verbose=3,\n",
    "    output='m1d5_o2_3.out')  \n",
    "\n",
    "o2_triplet = molo2_triplet.UHF().run() #UHF Unrestricted Hartree-Fock. Two unpaired electrons\n",
    "o2_triplet.analyze()\n",
    "\n",
    "print(o2_singlet.e_tot)\n",
    "print(o2_triplet.e_tot)"
   ]
  },
  {
   "cell_type": "code",
   "execution_count": 13,
   "id": "3a5e646b",
   "metadata": {},
   "outputs": [
    {
     "name": "stdout",
     "output_type": "stream",
     "text": [
      "overwrite output file: m1d5_n2_1.out\n",
      "overwrite output file: m1d5_n2_3.out\n",
      "-108.86761837305848\n",
      "-108.59455017417186\n"
     ]
    }
   ],
   "source": [
    "moln2_singlet = gto.M(\n",
    "    atom = 'N 0 0 0; N 0 0 1.1',  # in Angstrom\n",
    "    basis = '6-31g',\n",
    "    symmetry = True,\n",
    "    charge=0, \n",
    "    spin=0,\n",
    "    verbose=3,\n",
    "    output='m1d5_n2_1.out')  \n",
    "\n",
    "n2_singlet = moln2_singlet.RHF().run() #RHF Restricted Hartree-Fock. All electrons are paired\n",
    "n2_singlet.analyze()\n",
    "\n",
    "moln2_triplet = gto.M(\n",
    "    atom = 'N 0 0 0; N 0 0 1.1',  # in Angstrom\n",
    "    basis = '6-31g',\n",
    "    symmetry = True,\n",
    "    charge=0, \n",
    "    spin=2, #two unpaired electrons\n",
    "    verbose=3,\n",
    "    output='m1d5_n2_3.out')  \n",
    "\n",
    "n2_triplet = moln2_triplet.UHF().run() #UHF Unrestricted Hartree-Fock. Two unpaired electrons\n",
    "n2_triplet.analyze()\n",
    "\n",
    "print(n2_singlet.e_tot)\n",
    "print(n2_triplet.e_tot)"
   ]
  },
  {
   "cell_type": "markdown",
   "id": "a884bb6c",
   "metadata": {},
   "source": [
    "* What spin state is most stable for N2 and O2? Compare it with their Lewis structures and assess if the Lewis structures can be used to predict the electronic stability.\n",
    "* Look at the orbital energies of the output to explain this phenomenon. In the case of O2, the molecules has 16 electrons. Check the \"Orbital Energies\" and fill them up with 16 electrons."
   ]
  },
  {
   "cell_type": "markdown",
   "id": "6b6d38f7",
   "metadata": {},
   "source": [
    "## Population analysis\n",
    "\n",
    "Partial charges are not really a quantum property because the electrons are not constrained to one atom. Rather, the square of the wavefunction extents over all space. That being said, there are methods to decide on what atom the electrons are most probable to be found.\n",
    "\n",
    "Below we can calculate the charges according using the Mulliken method."
   ]
  },
  {
   "cell_type": "code",
   "execution_count": null,
   "id": "d719c5b4",
   "metadata": {},
   "outputs": [
    {
     "name": "stdout",
     "output_type": "stream",
     "text": [
      "overwrite output file: m1d5_co_sp.out\n"
     ]
    },
    {
     "data": {
      "text/plain": [
       "((array([1.99999186e+00, 1.73393973e+00, 1.17103529e-02, 4.46250338e-04,\n",
       "         4.13382584e-01, 4.13382584e-01, 1.01917143e+00, 2.29978258e-04,\n",
       "         2.29978258e-04, 1.11210209e-02, 2.19064334e-07, 2.19064334e-07,\n",
       "         4.58726884e-05, 9.82468610e-35, 4.68933508e-03, 7.18710213e-03,\n",
       "         4.68933508e-03, 2.25139348e-33, 1.99999328e+00, 1.79866648e+00,\n",
       "         4.66845337e-03, 9.99958974e-05, 1.57936995e+00, 1.57936995e+00,\n",
       "         1.40799362e+00, 4.82202347e-04, 4.82202347e-04, 1.44029039e-03,\n",
       "         4.04889972e-04, 4.04889972e-04, 9.93620981e-05, 3.78733935e-34,\n",
       "         1.44084349e-03, 3.42491238e-03, 1.44084349e-03, 9.88197247e-33]),\n",
       "  array([ 0.37978216, -0.37978216])),\n",
       " array([ 0.        ,  0.        , -1.67449812]))"
      ]
     },
     "execution_count": 16,
     "metadata": {},
     "output_type": "execute_result"
    }
   ],
   "source": [
    "molCO = gto.M(\n",
    "    atom = 'C 0 0 0; O 0 0 1.4',  # in Angstrom\n",
    "    basis = '6-31g',\n",
    "    symmetry = True,\n",
    "    charge=0, \n",
    "    spin=0,\n",
    "    verbose=4,\n",
    "    output='m1d5_co_sp.out')  \n",
    "\n",
    "co = molCO.RHF().run() #RHF Restricted Hartree-Fock. All electrons are paired\n",
    "co.analyze()"
   ]
  },
  {
   "cell_type": "markdown",
   "id": "8f494852",
   "metadata": {},
   "source": [
    "* Open the output file m1d5_co_sp.out. At the bottom of the file we added the dipole and Mulliken charges. What is the charge on C and O in the molecule of CO? Does it match with its Lewis structure?\n",
    "* Charges depend a lot on the size of the basis set and the level of theory. You could try to redo the above calculation with b3lyp/6-311G** and see if the charges are the same.\n",
    "\n",
    "Notice though that we do not know whether or not the geometry we introduced so far is the actual bond distance. At different geometries we may obtain different results."
   ]
  },
  {
   "cell_type": "markdown",
   "id": "b71bac46",
   "metadata": {},
   "source": [
    "# Scanning a distance to find bond distance\n",
    "\n",
    "We want to produce a binding energy curve for the $H_2$ molecule using different levels of theory. The binding energy is given by:\n",
    "\n",
    " $$E_{bind} = E(H_2) - 2E(H)  \\tag{1} $$\n",
    "\n",
    "Or if we build the binding curve, the binding energy would be the energy difference between the bottom of the well and the energy at which the H-H bond is infinitely apart."
   ]
  },
  {
   "cell_type": "code",
   "execution_count": 38,
   "id": "2f927696",
   "metadata": {},
   "outputs": [],
   "source": [
    "from scipy import constants\n",
    "\n",
    "hartree_value = 1  # Value in Hartree\n",
    "electronvolt_value = hartree_value * constants.physical_constants[\"Hartree energy in eV\"][0]\n"
   ]
  },
  {
   "cell_type": "code",
   "execution_count": null,
   "id": "0975a63d",
   "metadata": {},
   "outputs": [
    {
     "name": "stdout",
     "output_type": "stream",
     "text": [
      "0.3\n",
      "overwrite output file: m1d5_h2_scan0.3UHF.out\n",
      "0.4\n",
      "overwrite output file: m1d5_h2_scan0.4UHF.out\n",
      "0.5\n",
      "overwrite output file: m1d5_h2_scan0.5UHF.out\n",
      "0.6\n",
      "overwrite output file: m1d5_h2_scan0.6UHF.out\n",
      "0.7\n",
      "overwrite output file: m1d5_h2_scan0.7UHF.out\n",
      "0.8\n",
      "overwrite output file: m1d5_h2_scan0.8UHF.out\n",
      "0.9\n",
      "overwrite output file: m1d5_h2_scan0.9UHF.out\n",
      "1.0\n",
      "overwrite output file: m1d5_h2_scan1.0UHF.out\n",
      "1.1\n",
      "overwrite output file: m1d5_h2_scan1.1UHF.out\n",
      "1.2\n",
      "overwrite output file: m1d5_h2_scan1.2UHF.out\n",
      "1.3\n",
      "overwrite output file: m1d5_h2_scan1.3UHF.out\n",
      "1.4\n",
      "overwrite output file: m1d5_h2_scan1.4UHF.out\n",
      "1.5\n",
      "overwrite output file: m1d5_h2_scan1.5UHF.out\n",
      "1.6\n",
      "overwrite output file: m1d5_h2_scan1.6UHF.out\n",
      "1.7\n",
      "overwrite output file: m1d5_h2_scan1.7UHF.out\n",
      "1.8\n",
      "overwrite output file: m1d5_h2_scan1.8UHF.out\n",
      "1.9\n",
      "overwrite output file: m1d5_h2_scan1.9UHF.out\n",
      "2.0\n",
      "overwrite output file: m1d5_h2_scan2.0UHF.out\n"
     ]
    }
   ],
   "source": [
    "myGeom = 'H 0 0 0; H 0 0 mydist'  #using mydist as a string to replace in the loop by the actual distance\n",
    "myoutput = 'm1d5_h2_scanmydist.out'\n",
    "\n",
    "def runThisDist(mydist,method):\n",
    "    molh2 = gto.M(\n",
    "        atom = myGeom.replace('mydist',str(mydist)), #str: need to convert float to string\n",
    "        basis = '6-31g',\n",
    "        symmetry = True,\n",
    "        charge=0, \n",
    "        spin=0,\n",
    "        verbose=2,\n",
    "        output=myoutput.replace('mydist',str(mydist)+method))  \n",
    "    if method == \"UHF\": \n",
    "        h2 = molh2.UHF().run()\n",
    "    elif method == \"RHF\":\n",
    "        h2 = molh2.RHF().run()\n",
    "    else:\n",
    "        print(\"Wrong method\")\n",
    "    return(h2.e_tot*electronvolt_value)\n",
    "\n",
    "distances = [0.3, 0.4, 0.5, 0.6, 0.7, 0.8, 0.9, 1. , 1.1, 1.2, 1.3, 1.4, 1.5, 1.6, 1.7, 1.8, 1.9, 2. ]\n",
    "#the distance array can be done with np.linspace(0.3,2.0,18)\n",
    "listEne = []\n",
    "for r in distances:\n",
    "    print(r)\n",
    "    listEne.append( runThisDist(r,\"UHF\"))\n"
   ]
  },
  {
   "cell_type": "code",
   "execution_count": 82,
   "id": "be5a0b41",
   "metadata": {},
   "outputs": [
    {
     "data": {
      "image/png": "[encoded data removed]",
      "text/plain": [
       "<Figure size 640x480 with 1 Axes>"
      ]
     },
     "metadata": {},
     "output_type": "display_data"
    }
   ],
   "source": [
    "import matplotlib.pyplot as plt\n",
    "\n",
    "fig, ax = plt.subplots()\n",
    "#the x axis is the atomic number\n",
    "\n",
    "ax.plot(distances,listEne,'.r-')\n",
    "ax.set_xlabel(\"dist\")\n",
    "ax.set_ylabel(\"E(eV)\")\n",
    "ax.set_title(\"Dissociation curve of H2\");"
   ]
  },
  {
   "cell_type": "markdown",
   "id": "7c68214f",
   "metadata": {},
   "source": [
    "* Your turn: Build the bonding curve for H2(+) and H2(-).\n",
    "* Plot these curves."
   ]
  },
  {
   "cell_type": "markdown",
   "id": "598d2782",
   "metadata": {},
   "source": [
    "## Homolytic and heterolytic breaking of a bond\n",
    "\n",
    "One can break a bond homolitically, that is, each atom keeps one electron so that at the end you have two unpaired electrons (triplet) and both atoms remain neutral. Or you can break it heterolitically, so that one atom keeps both electrons and no electrons are unpaired. In gas phase (without solvent) the homolytical bond breaking takes less energy.\n",
    "\n",
    "The plot shown above was an homolytical breaking because we allowed the electrons to be separated. If we run the same H2 curve just using RHF we will obtain the heterolytical breaking."
   ]
  },
  {
   "cell_type": "code",
   "execution_count": 75,
   "id": "27914a81",
   "metadata": {},
   "outputs": [
    {
     "name": "stdout",
     "output_type": "stream",
     "text": [
      "0.3\n",
      "overwrite output file: m1d5_h2_scan0.3RHF.out\n",
      "0.4\n",
      "overwrite output file: m1d5_h2_scan0.4RHF.out\n",
      "0.5\n",
      "overwrite output file: m1d5_h2_scan0.5RHF.out\n",
      "0.6\n",
      "overwrite output file: m1d5_h2_scan0.6RHF.out\n",
      "0.7\n",
      "overwrite output file: m1d5_h2_scan0.7RHF.out\n",
      "0.8\n",
      "overwrite output file: m1d5_h2_scan0.8RHF.out\n",
      "0.9\n",
      "overwrite output file: m1d5_h2_scan0.9RHF.out\n",
      "1.0\n",
      "overwrite output file: m1d5_h2_scan1.0RHF.out\n",
      "1.1\n",
      "overwrite output file: m1d5_h2_scan1.1RHF.out\n",
      "1.2\n",
      "overwrite output file: m1d5_h2_scan1.2RHF.out\n",
      "1.3\n",
      "overwrite output file: m1d5_h2_scan1.3RHF.out\n",
      "1.4\n",
      "overwrite output file: m1d5_h2_scan1.4RHF.out\n",
      "1.5\n",
      "overwrite output file: m1d5_h2_scan1.5RHF.out\n",
      "1.6\n",
      "overwrite output file: m1d5_h2_scan1.6RHF.out\n",
      "1.7\n",
      "overwrite output file: m1d5_h2_scan1.7RHF.out\n",
      "1.8\n",
      "overwrite output file: m1d5_h2_scan1.8RHF.out\n",
      "1.9\n",
      "overwrite output file: m1d5_h2_scan1.9RHF.out\n",
      "2.0\n",
      "overwrite output file: m1d5_h2_scan2.0RHF.out\n"
     ]
    }
   ],
   "source": [
    "listEneRHF = []\n",
    "#using the same distances array defined above\n",
    "for r in distances:\n",
    "    print(r)\n",
    "    listEneRHF.append(runThisDist(r,\"RHF\"))"
   ]
  },
  {
   "cell_type": "code",
   "execution_count": 83,
   "id": "ab5d1980",
   "metadata": {},
   "outputs": [
    {
     "data": {
      "image/png": "[encoded data removed]",
      "text/plain": [
       "<Figure size 640x480 with 1 Axes>"
      ]
     },
     "metadata": {},
     "output_type": "display_data"
    }
   ],
   "source": [
    "fig, ax = plt.subplots()\n",
    "#the x axis is the atomic number\n",
    "\n",
    "ax.plot(distances,listEne,'.r-',label=\"UHF\")\n",
    "ax.plot(distances,listEneRHF,'.b-',label=\"RHF\")\n",
    "ax.set_xlabel(\"dist\")\n",
    "ax.set_ylabel(\"E(eV)\")\n",
    "ax.set_title(\"Dissociation curve for H2: Comparing UHF and RHF\")\n",
    "ax.legend();\n",
    "#if you see the two curves showing the same energy at dissoviactions it means that the UHF method has not converged into the lower unpaired singlet. \n",
    "# Need to perturb the guess density matrix in that case"
   ]
  },
  {
   "cell_type": "markdown",
   "id": "b6f104f7",
   "metadata": {},
   "source": [
    "# Structure optimization\n",
    "\n",
    "A faster way to find the minimum of energy in the potential energy surface is by using an optimization algorithm. These algorithms will use the first derivative of the energy (the gradient) to move towards the minimum. It is an iterative process and it requires a threshold of gradient and energy for the computer to know when the minimum is found."
   ]
  },
  {
   "cell_type": "code",
   "execution_count": null,
   "id": "0b77d977",
   "metadata": {},
   "outputs": [],
   "source": []
  },
  {
   "cell_type": "code",
   "execution_count": 15,
   "id": "e938a666",
   "metadata": {},
   "outputs": [
    {
     "name": "stdout",
     "output_type": "stream",
     "text": [
      "Optimizer: Optimization complete!\n"
     ]
    },
    {
     "data": {
      "text/plain": [
       "-1.1313348258320226"
      ]
     },
     "execution_count": 15,
     "metadata": {},
     "output_type": "execute_result"
    }
   ],
   "source": [
    "psi4.core.clean()\n",
    "h2_geo = psi4.geometry(\"\"\"\n",
    "H 0.0 0.0 0.0 \n",
    "H 0.0 0.0 0.6\n",
    "\n",
    "units angstrom\n",
    "\"\"\")\n",
    "\n",
    "psi4.core.set_output_file('h2_opt.txt', False)\n",
    "psi4.set_options({'reference': 'rhf'})\n",
    "psi4.optimize('scf/6-31G**', molecule=h2_geo)"
   ]
  },
  {
   "cell_type": "markdown",
   "id": "b6788a1a",
   "metadata": {},
   "source": [
    "Your turn\n",
    "* Open the h2_opt.txt file and see the bond distance at which the algorithm has optimized the structure. Compare it with out previous scan.\n",
    "* What is the criteria for gradient and energy to decide when convergence is achieved?\n",
    "* Look at the code, what is the first loop doing? And the second?"
   ]
  },
  {
   "cell_type": "code",
   "execution_count": 23,
   "id": "bc833ea5",
   "metadata": {},
   "outputs": [
    {
     "name": "stdout",
     "output_type": "stream",
     "text": [
      "    Total Energy =                         -1.1139361721990531\n",
      "\n",
      "    Total Energy =                         -1.1312540898766401\n",
      "\n",
      "    Total Energy =                         -1.1313243629427232\n",
      "\n",
      "    Total Energy =                         -1.1313334462445632\n",
      "\n",
      "    Total Energy =                         -1.1313348258320226\n",
      "\n",
      "**Optimization step\n",
      "   Step     Total Energy     Delta E     MAX Force     RMS Force      MAX Disp      RMS Disp    ~\n",
      "\n",
      "  --------------------------------------------------------------------------------------------- ~\n",
      "\n",
      "    Convergence Criteria    1.00e-06 *    3.00e-04 *             o    1.20e-03 *             o  ~\n",
      "\n",
      "  --------------------------------------------------------------------------------------------- ~\n",
      "\n",
      "      1      -1.11393617   -1.11e+00      1.62e-01      1.62e-01 o    2.31e-01      2.31e-01 o  ~\n",
      "\n",
      "**Optimization step\n",
      "   Step     Total Energy     Delta E     MAX Force     RMS Force      MAX Disp      RMS Disp   \n",
      "\n",
      "  ---------------------------------------------------------------------------------------------\n",
      "\n",
      "    Convergence Criteria    1.00e-06 *    3.00e-04 *             o    1.20e-03 *             o\n",
      "\n",
      "  ---------------------------------------------------------------------------------------------\n",
      "\n",
      "      2      -1.13125409   -1.73e-02      8.31e-03      8.31e-03 o    1.25e-02      1.25e-02 o  ~\n",
      "\n",
      "**Optimization step\n",
      "   Step     Total Energy     Delta E     MAX Force     RMS Force      MAX Disp      RMS Disp   \n",
      "\n",
      "  ---------------------------------------------------------------------------------------------\n",
      "\n",
      "    Convergence Criteria    1.00e-06 *    3.00e-04 *             o    1.20e-03 *             o\n",
      "\n",
      "  ---------------------------------------------------------------------------------------------\n",
      "\n",
      "      3      -1.13132436   -7.03e-05      2.95e-03      2.95e-03 o    4.53e-03      4.53e-03 o  ~\n",
      "\n",
      "**Optimization step\n",
      "   Step     Total Energy     Delta E     MAX Force     RMS Force      MAX Disp      RMS Disp   \n",
      "\n",
      "  ---------------------------------------------------------------------------------------------\n",
      "\n",
      "    Convergence Criteria    1.00e-06 *    3.00e-04 *             o    1.20e-03 *             o\n",
      "\n",
      "  ---------------------------------------------------------------------------------------------\n",
      "\n",
      "      4      -1.13133345   -9.08e-06      1.07e-03      1.07e-03 o    2.51e-03      2.51e-03 o  ~\n",
      "\n",
      "**Optimization step\n",
      "   Step     Total Energy     Delta E     MAX Force     RMS Force      MAX Disp      RMS Disp   \n",
      "\n",
      "  ---------------------------------------------------------------------------------------------\n",
      "\n",
      "    Convergence Criteria    1.00e-06 *    3.00e-04 *             o    1.20e-03 *             o\n",
      "\n",
      "  ---------------------------------------------------------------------------------------------\n",
      "\n",
      "      5      -1.13133483   -1.38e-06      3.45e-05 *    3.45e-05 o    8.33e-05 *    8.33e-05 o  ~\n",
      "\n"
     ]
    }
   ],
   "source": [
    "myOutput = open('h2_opt.txt','r').readlines()\n",
    "for line in myOutput:\n",
    "    if 'Total Energy =' in line:\n",
    "        print(line)\n",
    "for i in range(len(myOutput)):\n",
    "    if 'Step     Total Energy' in myOutput[i]:\n",
    "        print(\"**Optimization step\")\n",
    "        print(myOutput[i])\n",
    "        print(myOutput[i+1])\n",
    "        print(myOutput[i+2])\n",
    "        print(myOutput[i+3])\n",
    "        print(myOutput[i+4])\n",
    "        i = i + 4\n",
    "    i = i + 1\n",
    "        "
   ]
  },
  {
   "cell_type": "markdown",
   "id": "928b39eb",
   "metadata": {},
   "source": [
    "## Optimization of the molecule of water"
   ]
  },
  {
   "cell_type": "code",
   "execution_count": 3,
   "id": "648f6268",
   "metadata": {},
   "outputs": [
    {
     "name": "stdout",
     "output_type": "stream",
     "text": [
      "Optimizer: Optimization complete!\n"
     ]
    },
    {
     "data": {
      "text/plain": [
       "-76.01072051843589"
      ]
     },
     "execution_count": 3,
     "metadata": {},
     "output_type": "execute_result"
    }
   ],
   "source": [
    "psi4.core.clean()\n",
    "psi4.core.set_output_file('h2o_opt.txt', False)\n",
    "h2o = psi4.geometry(\"\"\"\n",
    "0 1\n",
    "O\n",
    "H 1 0.96\n",
    "H 1 0.96 2 104.5\n",
    "\"\"\")\n",
    "\n",
    "psi4.set_options({'reference': 'rhf'})\n",
    "psi4.optimize('scf/6-31g*',molecule=h2o)\n"
   ]
  },
  {
   "cell_type": "markdown",
   "id": "9d616300",
   "metadata": {},
   "source": [
    "* See below how we can use psi4 to look at atomic distance"
   ]
  },
  {
   "cell_type": "code",
   "execution_count": 14,
   "id": "e7eb21e3",
   "metadata": {},
   "outputs": [
    {
     "name": "stdout",
     "output_type": "stream",
     "text": [
      "Distances between atoms in Bohr\n",
      "[[0.         1.79021278 1.79021278]\n",
      " [1.79021278 0.         2.85136018]\n",
      " [1.79021278 2.85136018 0.        ]]\n",
      "[[0.         0.9473398  0.9473398 ]\n",
      " [0.9473398  0.         1.50887483]\n",
      " [0.9473398  1.50887483 0.        ]]\n"
     ]
    }
   ],
   "source": [
    "#we can get the distances from the optimized structure directly\n",
    "myDistMat = psi4.core.Molecule.distance_matrix(h2o)\n",
    "print(myDistMat.name)\n",
    "print(myDistMat.np)\n",
    "\n",
    "print(myDistMat.np*psi4.constants.bohr2angstroms)\n"
   ]
  },
  {
   "cell_type": "markdown",
   "id": "e108e4cf",
   "metadata": {},
   "source": [
    "# Questions\n",
    "\n",
    "* What is more stable for the molecule of F2, the triplet or the singlet?\n",
    "* What is more stable spin state for the molecule of NO? What is the Mulliken charge on these two atoms?\n",
    "* Calculate the bonding curve for H2, H2(+), H2(-) and plot them in the same graph. \n",
    "* Optimize the structure of HF and H2O and report the bond distances. (you will have to look at the output file or use psi4.core.Molecule.distance_matrix)\n",
    "* Optimize the structure of OH(-) and single point energy for F(-). Use these results to predict what is a better acid, H2O or HF?\n",
    "* Extra: you may also include in your acid comparison other molecules such as NH3, H2S, HCl, CH4"
   ]
  },
  {
   "cell_type": "code",
   "execution_count": null,
   "id": "84ea3c82",
   "metadata": {},
   "outputs": [],
   "source": []
  }
 ],
 "metadata": {
  "kernelspec": {
   "display_name": "pchem",
   "language": "python",
   "name": "python3"
  },
  "language_info": {
   "codemirror_mode": {
    "name": "ipython",
    "version": 3
   },
   "file_extension": ".py",
   "mimetype": "text/x-python",
   "name": "python",
   "nbconvert_exporter": "python",
   "pygments_lexer": "ipython3",
   "version": "3.12.2"
  },
  "toc": {
   "base_numbering": 1,
   "nav_menu": {},
   "number_sections": true,
   "sideBar": true,
   "skip_h1_title": false,
   "title_cell": "Table of Contents",
   "title_sidebar": "Contents",
   "toc_cell": true,
   "toc_position": {},
   "toc_section_display": true,
   "toc_window_display": false
  },
  "varInspector": {
   "cols": {
    "lenName": 16,
    "lenType": 16,
    "lenVar": 40
   },
   "kernels_config": {
    "python": {
     "delete_cmd_postfix": "",
     "delete_cmd_prefix": "del ",
     "library": "var_list.py",
     "varRefreshCmd": "print(var_dic_list())"
    },
    "r": {
     "delete_cmd_postfix": ") ",
     "delete_cmd_prefix": "rm(",
     "library": "var_list.r",
     "varRefreshCmd": "cat(var_dic_list()) "
    }
   },
   "types_to_exclude": [
    "module",
    "function",
    "builtin_function_or_method",
    "instance",
    "_Feature"
   ],
   "window_display": false
  }
 },
 "nbformat": 4,
 "nbformat_minor": 5
}
