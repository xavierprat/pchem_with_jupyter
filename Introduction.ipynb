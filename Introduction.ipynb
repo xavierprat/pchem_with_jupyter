{
 "cells": [
  {
   "cell_type": "markdown",
   "metadata": {},
   "source": [
    "# Introduction\n",
    "\n",
    "This set of Jupyter Notebooks are used during an introductory Physical Chemistry course.\n",
    "These notes should not substitute a textbook or even class slides. While I tried to write some of the conceptual and mathematical context,\n",
    "they are by no means a complete source of information. I recommend McQuarrie's textbook \"Physical Chemistry: A molecular approach\" for the first three chapters. Chapter 4 is a quick overview of simple molecular simulation techiques and I did not use any textbook reference.\n",
    "This version is the student version that does not contain the solutions to the problems. I can happily share the version containing the answers to anyone who can somehow show me that they are Physical Chemistry instructors.\n",
    "\n",
    "    Author:\n",
    "    Xavier Prat-Resina \n",
    "    pratr001@r.umn.edu\n",
    "    https://pratresina.umn.edu\n",
    "    Associate Professor of Chemistry\n",
    "    Center for Learning Innovation\n",
    "    University of Minnesota Rochester\n",
    "\n",
    "The notebooks are organized the following manner.\n",
    "* Chapter 0: It starts with a very brief introduction to Python.\n",
    "\n",
    " The rest follows a molecular thermodynamics flow of concepts. \n",
    " * Chapter 1: Atomic and molecular energy levels\n",
    " * Chapter 2: Exploration of the potential energy surface\n",
    " * Chapter 3: Introduction to Statistical Thermodynamics\n",
    " * Chapter 4: Molecular simulations and Thermodynamics\n",
    "\n",
    "A note on Python: The strategy followed here is to avoid preloading\n",
    "the course with too many programming concepts. This is not a programming course. Most exercises assigned to students only require\n",
    "to understand and slightly modify a small snippet of working python code.\n",
    "During the first sections the Python used may not be very elegant as it is restricted to only using the Python libraries learned at that point in the course.\n",
    "For example, the plots may lack proper labels and legends to avoid overwhelming the student with matplotlib commands, and there is not a single call to a function until day 5!\n",
    "You will see that as the course progresses the code becomes more succint and pleasant to the expert eyes.\n"
   ]
  },
  {
   "cell_type": "markdown",
   "metadata": {},
   "source": []
  }
 ],
 "metadata": {
  "language_info": {
   "name": "python"
  }
 },
 "nbformat": 4,
 "nbformat_minor": 2
}
